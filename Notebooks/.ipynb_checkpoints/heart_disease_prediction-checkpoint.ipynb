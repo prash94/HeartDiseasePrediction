{
 "cells": [
  {
   "cell_type": "markdown",
   "metadata": {},
   "source": [
    "# Heart Disease Prediction"
   ]
  },
  {
   "cell_type": "markdown",
   "metadata": {},
   "source": [
    "## read data"
   ]
  },
  {
   "cell_type": "code",
   "execution_count": 1,
   "metadata": {},
   "outputs": [],
   "source": [
    "import pandas\n",
    "import pathlib as pl"
   ]
  },
  {
   "cell_type": "code",
   "execution_count": 1,
   "metadata": {},
   "outputs": [],
   "source": [
    "def read_data_file(*, file_name: str, sep: str):\n",
    "\trawdata = pd.read_csv(file_name, sep=sep)\n",
    "\treturn rawdata\n",
    "read_data_file()"
   ]
  },
  {
   "cell_type": "code",
   "execution_count": 5,
   "metadata": {},
   "outputs": [
    {
     "data": {
      "text/plain": [
       "WindowsPath('C:/Users/prash/Documents/projects')"
      ]
     },
     "execution_count": 5,
     "metadata": {},
     "output_type": "execute_result"
    }
   ],
   "source": [
    "pl.Path.cwd().parent"
   ]
  },
  {
   "cell_type": "code",
   "execution_count": 4,
   "metadata": {},
   "outputs": [
    {
     "name": "stdout",
     "output_type": "stream",
     "text": [
      " Volume in drive C is Windows\n",
      " Volume Serial Number is 6227-B449\n",
      "\n",
      " Directory of C:\\Users\\prash\\Documents\\projects\\Notebooks\n",
      "\n",
      "21/03/2020  23:51    <DIR>          .\n",
      "21/03/2020  23:51    <DIR>          ..\n",
      "21/03/2020  23:51    <DIR>          .ipynb_checkpoints\n",
      "12/03/2020  21:49            15,945 HDPrediction_testing.ipynb\n",
      "21/03/2020  23:48             1,766 heart_disease_prediction-checkpoint.ipynb\n",
      "21/03/2020  23:48             1,766 heart_disease_prediction.ipynb\n",
      "               3 File(s)         19,477 bytes\n",
      "               3 Dir(s)  403,845,627,904 bytes free\n"
     ]
    }
   ],
   "source": [
    "!dir"
   ]
  },
  {
   "cell_type": "code",
   "execution_count": null,
   "metadata": {},
   "outputs": [],
   "source": [
    "plt.scatter(data.total_bill, data.tip);"
   ]
  }
 ],
 "metadata": {
  "kernelspec": {
   "display_name": "python (hdprediction)",
   "language": "python",
   "name": "hdprediction"
  },
  "language_info": {
   "codemirror_mode": {
    "name": "ipython",
    "version": 3
   },
   "file_extension": ".py",
   "mimetype": "text/x-python",
   "name": "python",
   "nbconvert_exporter": "python",
   "pygments_lexer": "ipython3",
   "version": "3.7.4"
  },
  "toc": {
   "base_numbering": 1,
   "nav_menu": {},
   "number_sections": true,
   "sideBar": true,
   "skip_h1_title": false,
   "title_cell": "Table of Contents",
   "title_sidebar": "Contents",
   "toc_cell": false,
   "toc_position": {
    "height": "calc(100% - 180px)",
    "left": "10px",
    "top": "150px",
    "width": "512px"
   },
   "toc_section_display": true,
   "toc_window_display": true
  }
 },
 "nbformat": 4,
 "nbformat_minor": 2
}
